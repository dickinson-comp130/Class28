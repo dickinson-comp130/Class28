{
 "cells": [
  {
   "cell_type": "markdown",
   "metadata": {},
   "source": [
    "# Class 28 - String Methods Examples\n",
    "**COMP130 - Introduction to Computing**  \n",
    "**Dickinson College**  "
   ]
  },
  {
   "cell_type": "markdown",
   "metadata": {},
   "source": [
    "### Strings"
   ]
  },
  {
   "cell_type": "code",
   "execution_count": null,
   "metadata": {},
   "outputs": [],
   "source": [
    "s = 'I am a string!'\n",
    "print(s)\n",
    "print(type(s))"
   ]
  },
  {
   "cell_type": "markdown",
   "metadata": {},
   "source": [
    "### Python Strings are Objects\n",
    "\n",
    "Like other objects we have seen that means they have a *constructor* and *methods* that we can invoke that will operate on them.  For example, the `turtle` class from the `Turtle` module:\n",
    "\n",
    "```Python\n",
    "sam=Turtle.turtle()   # Use constructor to make a turtle.\n",
    "sam.forward(100)      # Invoke a method on the turtle sam.\n",
    "```\n",
    "\n",
    "Or the `Circle` class from the `graphics` module:\n",
    "```Python\n",
    "pie = Circle(Point(100,200), 20))\n",
    "pie.setFill('Red')\n",
    "```"
   ]
  },
  {
   "cell_type": "code",
   "execution_count": null,
   "metadata": {},
   "outputs": [],
   "source": [
    "s2 = str('Me too')  # equivalent to s2 = 'Me too'.\n",
    "print(s2)\n",
    "print(type(s2))"
   ]
  },
  {
   "cell_type": "markdown",
   "metadata": {},
   "source": [
    "### String Objects have Methods\n",
    "\n",
    "Below are few examples of the most useful `String` methods in Python.  A link to documentation of the `String` class and all of the methods can be found on the course home page."
   ]
  },
  {
   "cell_type": "code",
   "execution_count": null,
   "metadata": {},
   "outputs": [],
   "source": [
    "s = 'This is a test'\n",
    "\n",
    "print(s.find('This'))\n",
    "print(s.find('test'))\n",
    "print(s.find('is'))\n",
    "print(s.find('what'))"
   ]
  },
  {
   "cell_type": "code",
   "execution_count": null,
   "metadata": {},
   "outputs": [],
   "source": [
    "print(s.startswith('This'))\n",
    "print(s.startswith('Not this'))\n",
    "\n",
    "print(s.endswith('test'))\n",
    "print(s.endswith('exam'))"
   ]
  },
  {
   "cell_type": "code",
   "execution_count": null,
   "metadata": {},
   "outputs": [],
   "source": [
    "s2 = 'ABC123.456'\n",
    "\n",
    "print(s2.isalnum())         # ABC123.456\n",
    "print(s2[0:6].isalnum())    # ABC123\n",
    "print(s2[3:].isalnum())     # 123.456"
   ]
  },
  {
   "cell_type": "code",
   "execution_count": null,
   "metadata": {},
   "outputs": [],
   "source": [
    "print(s2.isalpha())         # ABC123.456\n",
    "print(s2[0:3].isalpha())    # ABC"
   ]
  },
  {
   "cell_type": "code",
   "execution_count": null,
   "metadata": {},
   "outputs": [],
   "source": [
    "print(s2.isdigit())         # ABC123.456\n",
    "print(s2[3:6].isdigit())    # 123\n",
    "print(s2[3:].isdigit())     # 123.456"
   ]
  },
  {
   "cell_type": "markdown",
   "metadata": {},
   "source": [
    "### Strings are Immutable so Methods are Fruitful\n",
    "\n",
    "Objects of type `String` are *immutable* (i.e. cannot be changed) and thus any of the methods that *sound like* they manipulate the string in fact return a new `String` with the desired state."
   ]
  },
  {
   "cell_type": "code",
   "execution_count": null,
   "metadata": {},
   "outputs": [],
   "source": [
    "s = 'This Has UPPER and lower CaSe LeTtErS in It'\n",
    "\n",
    "s.upper()  # Has no effect on s.\n",
    "print(s)"
   ]
  },
  {
   "cell_type": "code",
   "execution_count": null,
   "metadata": {},
   "outputs": [],
   "source": [
    "sup = s.upper()   # Upper if fruitful.\n",
    "print(sup)"
   ]
  },
  {
   "cell_type": "code",
   "execution_count": null,
   "metadata": {},
   "outputs": [],
   "source": [
    "slo = s.lower()   # Lower is fruitful\n",
    "print(slo)"
   ]
  },
  {
   "cell_type": "code",
   "execution_count": null,
   "metadata": {},
   "outputs": [],
   "source": [
    "s = '  leading spaces and trailing spaces   '\n",
    "\n",
    "print('*' + s + '*')\n",
    "print('*' + s.strip() + '*')\n",
    "print('*' + s.lstrip() + '*')\n",
    "print('*' + s.rstrip() + '*')\n",
    "print(s)  # Had no effect on s."
   ]
  },
  {
   "cell_type": "code",
   "execution_count": null,
   "metadata": {},
   "outputs": [],
   "source": [
    "s_stripped = s.strip()  # strip is fruitful\n",
    "print(s_stripped)"
   ]
  },
  {
   "cell_type": "markdown",
   "metadata": {},
   "source": [
    "### The `in` Shorthand\n",
    "\n",
    "Checking if one `String` contains another `String` is a very common operation.  The `find(...)` method, of course, can accomplish this task.  But because it is so common many languages, including Python, provide a shorthand for this operation.  In Python, the `in` operator can be used."
   ]
  },
  {
   "cell_type": "code",
   "execution_count": null,
   "metadata": {},
   "outputs": [],
   "source": [
    "s = input('Type a string: ')\n",
    "if 'cs' in s:\n",
    "    print('Winner, winner, chicken dinner!')\n",
    "    \n",
    "if s.find('cs') >= 0:\n",
    "    print('Hey, I am a winner too!')"
   ]
  }
 ],
 "metadata": {
  "kernelspec": {
   "display_name": "Python 3",
   "language": "python",
   "name": "python3"
  },
  "language_info": {
   "codemirror_mode": {
    "name": "ipython",
    "version": 3
   },
   "file_extension": ".py",
   "mimetype": "text/x-python",
   "name": "python",
   "nbconvert_exporter": "python",
   "pygments_lexer": "ipython3",
   "version": "3.7.3"
  }
 },
 "nbformat": 4,
 "nbformat_minor": 2
}

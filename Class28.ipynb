{
 "cells": [
  {
   "cell_type": "markdown",
   "metadata": {},
   "source": [
    "# Class 28 - String Methods\n",
    "**COMP130 - Introduction to Computing**  \n",
    "**Dickinson College**  "
   ]
  },
  {
   "cell_type": "markdown",
   "metadata": {},
   "source": [
    "### Names:"
   ]
  },
  {
   "cell_type": "markdown",
   "metadata": {},
   "source": []
  },
  {
   "cell_type": "markdown",
   "metadata": {},
   "source": [
    "### Using String Methods\n",
    "\n",
    "Each of the following questions asks you to rewrite some code to make it simpler by using a function from the `String` class.  To solve these problems you will need to understand what operations are being performed on the `String`s and then look through the documentation the `String` class (linked on the course home page) to find method(s) that will simplify the code."
   ]
  },
  {
   "cell_type": "markdown",
   "metadata": {},
   "source": [
    "__Q1:__ Simplify the following program by using a method or methods from the `String` class."
   ]
  },
  {
   "cell_type": "code",
   "execution_count": null,
   "metadata": {
    "deletable": false,
    "editable": false
   },
   "outputs": [],
   "source": [
    "choice = input('Enter Yes or No: ')\n",
    "if choice == 'Yes' or choice == 'YES' or choice == 'yes':\n",
    "    print('You chose yes :)')\n",
    "elif choice == 'No' or choice == 'NO' or choice == 'no':\n",
    "    print('You chose no :<')"
   ]
  },
  {
   "cell_type": "code",
   "execution_count": null,
   "metadata": {},
   "outputs": [],
   "source": []
  },
  {
   "cell_type": "markdown",
   "metadata": {},
   "source": [
    "__Q2:__ Simplify the following program by using a method or methods from the `String` class."
   ]
  },
  {
   "cell_type": "code",
   "execution_count": null,
   "metadata": {
    "deletable": false,
    "editable": false
   },
   "outputs": [],
   "source": [
    "line = input('Enter a line of text: ')\n",
    "newline=''\n",
    "index=0\n",
    "while line[index] == ' ':\n",
    "    index=index+1\n",
    "\n",
    "line=line[index:]\n",
    "print(line)"
   ]
  },
  {
   "cell_type": "code",
   "execution_count": null,
   "metadata": {},
   "outputs": [],
   "source": []
  },
  {
   "cell_type": "markdown",
   "metadata": {},
   "source": [
    "__Q3:__ Simplify the following program by using a method or methods from the `String` class. Hint: Use a loop and a call to the `count()` method and one other to make this more efficient."
   ]
  },
  {
   "cell_type": "code",
   "execution_count": null,
   "metadata": {
    "deletable": false,
    "editable": false
   },
   "outputs": [],
   "source": [
    "line = input('Enter a line of text: ')\n",
    "\n",
    "vowels=\"AEIOUaeiou\"\n",
    "count=0\n",
    "index=0\n",
    "while index < len(line):\n",
    "    if line[index] in vowels:\n",
    "       count=count+1\n",
    "    index=index+1\n",
    "\n",
    "print('Your line contains ' + str(count) + ' vowels.')"
   ]
  },
  {
   "cell_type": "markdown",
   "metadata": {},
   "source": [
    "### Writing String Functions:\n",
    "\n",
    "Each of the following questions asks you to read the documentation for one of the `String` methods and then write a function that does the same thing that the `String` method does. The function you write cannot use the `String` method indicated.  You may however use other `String` methods.  The idea is to gain some intuition about the kind of processing that goes on inside the method, and to give you more practice working with `String`s."
   ]
  },
  {
   "cell_type": "markdown",
   "metadata": {},
   "source": [
    "__Q4:__ Read the documentation for the `replace()` method and write a function named `my_replace()` that when given three `String`s and returns the same `String` that the `replace()` method would return. You may ignore the optional `count` parameter to the `replace()` method and just replace all instances.  Note: You can use the `find()` method in your function, just not the `replace()` function.  You can use the automated test below to check if your function works correctly. Start by trying to pass the first set of tests, then modify and extend your program to pass the second set."
   ]
  },
  {
   "cell_type": "code",
   "execution_count": null,
   "metadata": {},
   "outputs": [],
   "source": []
  },
  {
   "cell_type": "code",
   "execution_count": null,
   "metadata": {
    "deletable": false,
    "editable": false
   },
   "outputs": [],
   "source": [
    "# Get these to work first.\n",
    "s = 'abcba'\n",
    "print(my_replace(s,'c','d'))\n",
    "assert s.replace('c','d') == my_replace(s,'c','d'), 'my_replace did not work'\n",
    "assert s.replace('b','d') == my_replace(s,'b','d'), 'my_replace did not work'\n",
    "assert s.replace('a','d') == my_replace(s,'a','d'), 'my_replace did not work'\n",
    "print('Success!')"
   ]
  },
  {
   "cell_type": "code",
   "execution_count": null,
   "metadata": {
    "deletable": false,
    "editable": false
   },
   "outputs": [],
   "source": [
    "# Then modify and expand as necessary to solve these. Hint: Use string slices.\n",
    "s = 'abcba'\n",
    "assert s.replace('ab','d') == my_replace(s,'ab','d'), 'my_replace did not work'\n",
    "assert s.replace('ba','d') == my_replace(s,'ba','d'), 'my_replace did not work'\n",
    "assert s.replace('bcb','d') == my_replace(s,'bcb','d'), 'my_replace did not work'\n",
    "print('Success!')"
   ]
  },
  {
   "cell_type": "markdown",
   "metadata": {},
   "source": [
    "__Q5:__ Read the documentation for the `title()` method and write a function named `my_title()` that when given a `String` returns the same `String` that the `title()` method would return.  You can use the automated test below to check if your function works correctly.  Start by trying to pass the first set of tests, then modify and extend your program to pass the second set, and then the third set."
   ]
  },
  {
   "cell_type": "code",
   "execution_count": null,
   "metadata": {},
   "outputs": [],
   "source": []
  },
  {
   "cell_type": "code",
   "execution_count": null,
   "metadata": {
    "deletable": false,
    "editable": false
   },
   "outputs": [],
   "source": [
    "# Get these to work first.\n",
    "s='this is a test'\n",
    "assert s.title() == my_title(s), 'my_title did not work correctly'\n",
    "s='Anoter kind Of a Test'\n",
    "assert s.title() == my_title(s), 'my_title did not work correctly'\n",
    "print('Success!')"
   ]
  },
  {
   "cell_type": "code",
   "execution_count": null,
   "metadata": {
    "deletable": false,
    "editable": false
   },
   "outputs": [],
   "source": [
    "# Then work on this one.\n",
    "s='oNe mORE For Good meaSure'\n",
    "assert s.title() == my_title(s), 'my_title did not work correctly'\n",
    "print('Success!')"
   ]
  },
  {
   "cell_type": "code",
   "execution_count": null,
   "metadata": {
    "deletable": false,
    "editable": false
   },
   "outputs": [],
   "source": [
    "# Then work on these.\n",
    "# Hint... if a string c is a symbol then c.isalpha() is False.\n",
    "\n",
    "s='27pilots is a band.'\n",
    "assert s.title() == my_title(s), 'my_title did not work correctly'\n",
    "s='Stuff+after_a_symbol#should-also!be.caps'\n",
    "assert s.title() == my_title(s), 'my_title did not work correctly'\n",
    "print('Success!')"
   ]
  },
  {
   "cell_type": "markdown",
   "metadata": {},
   "source": [
    "# Substitution Cyphers\n",
    "\n",
    "A substitution cypher is a way of encoding a message such that it is more difficult to read. In a substitution cypher there is an *alphabet* and a *key*:\n",
    "```Python\n",
    "alphabet ='ABCDEFGHIJKLMNOPQRSTUVWXYZ .?0123456789'\n",
    "key      ='DEFGHIJKLMNOPQRSTUVWXYZ .?0123456789ABC' \n",
    "```\n",
    "\n",
    "To encode a message, each letter in the message is translated into the corresponding letter in the key.  For example: `CAT` is encoded to `FDW`.  The `C` is looked up in the `alphabet` and then matched to the `F` in the `key`, which is at the same location. Similarly for the `A` to `D` and `T` to `W`.\n",
    "\n",
    "To decode a message, the process is reversed. For example: `GRJ` decodes to `DOG`. The `G` is looked up in the `key` and then matched to the `D` that appears at the same location in the `alphabet`.  Similarly for the `R` to `O` and `J` to `G`.\n",
    "\n",
    "Substitution cyphers such as the one shown above where the *key* is a rotation of the alphabet are known as Cesar cyphers because they were used by Julius Cesar to encode messages he sent to his military commanders. While, at the time of Julius Cesar, they likely provided secure communications today Cesar cyphers are essentially useless as an encryption technique.  Though they are still good for providing exercises for beginner programmers learning about `Strings`! :)\n",
    "\n",
    "In this series of questions you'll develop some functions and then a program that can encode and decode messages using a Cesar cypher."
   ]
  },
  {
   "cell_type": "markdown",
   "metadata": {},
   "source": [
    "__Q6:__ Write a function `rotate(s, n)` that when given a `String` `s` will rotate the characters in it left by `n` positions. As an example, using the `alphabet` from above, the call `rotate(alphabet,3)` would return the `key`. Values of `n` greater than the length of `s` should be prohibited by a guardian.  You can use the automated tests below to check that your function is working correctly.  Hint: Use string slices."
   ]
  },
  {
   "cell_type": "code",
   "execution_count": null,
   "metadata": {},
   "outputs": [],
   "source": []
  },
  {
   "cell_type": "code",
   "execution_count": null,
   "metadata": {
    "deletable": false,
    "editable": false
   },
   "outputs": [],
   "source": [
    "assert rotate('ABCDEFG',1) == 'BCDEFGA', 'rotate did not work correctly'\n",
    "assert rotate('ABCDEFG',2) == 'CDEFGAB', 'rotate did not work correctly'\n",
    "assert rotate('ABCDEFG',6) == 'GABCDEF', 'rotate did not work correctly'\n",
    "assert rotate('ABCDEFG',7) == 'ABCDEFG', 'rotate did not work correctly'\n",
    "print('Success!')"
   ]
  },
  {
   "cell_type": "markdown",
   "metadata": {},
   "source": [
    "__Q7:__ Write a function `encode(s, alphabet, key)` that encodes `s` using the given `alphabet` and `key`.  You can write this function incrementally.  Write it first assuming `s` is a single character.  The first set of tests below will test this case. Then modify that solution to handle the case where `s` contains multiple characters. "
   ]
  },
  {
   "cell_type": "code",
   "execution_count": null,
   "metadata": {},
   "outputs": [],
   "source": []
  },
  {
   "cell_type": "code",
   "execution_count": 1,
   "metadata": {
    "deletable": false,
    "editable": false
   },
   "outputs": [
    {
     "ename": "NameError",
     "evalue": "name 'encode' is not defined",
     "output_type": "error",
     "traceback": [
      "\u001b[0;31m---------------------------------------------------------------------------\u001b[0m",
      "\u001b[0;31mNameError\u001b[0m                                 Traceback (most recent call last)",
      "\u001b[0;32m<ipython-input-1-1b274aa25231>\u001b[0m in \u001b[0;36m<module>\u001b[0;34m\u001b[0m\n\u001b[1;32m      2\u001b[0m \u001b[0mkey\u001b[0m      \u001b[0;34m=\u001b[0m\u001b[0;34m'DEFGHIJKLMNOPQRSTUVWXYZ .?0123456789ABC'\u001b[0m\u001b[0;34m\u001b[0m\u001b[0;34m\u001b[0m\u001b[0m\n\u001b[1;32m      3\u001b[0m \u001b[0;34m\u001b[0m\u001b[0m\n\u001b[0;32m----> 4\u001b[0;31m \u001b[0;32massert\u001b[0m \u001b[0mencode\u001b[0m\u001b[0;34m(\u001b[0m\u001b[0;34m'C'\u001b[0m\u001b[0;34m,\u001b[0m\u001b[0malphabet\u001b[0m\u001b[0;34m,\u001b[0m\u001b[0mkey\u001b[0m\u001b[0;34m)\u001b[0m \u001b[0;34m==\u001b[0m \u001b[0;34m'F'\u001b[0m\u001b[0;34m,\u001b[0m \u001b[0;34m'C did not encode correctly'\u001b[0m\u001b[0;34m\u001b[0m\u001b[0;34m\u001b[0m\u001b[0m\n\u001b[0m\u001b[1;32m      5\u001b[0m \u001b[0;32massert\u001b[0m \u001b[0mencode\u001b[0m\u001b[0;34m(\u001b[0m\u001b[0;34m'A'\u001b[0m\u001b[0;34m,\u001b[0m\u001b[0malphabet\u001b[0m\u001b[0;34m,\u001b[0m\u001b[0mkey\u001b[0m\u001b[0;34m)\u001b[0m \u001b[0;34m==\u001b[0m \u001b[0;34m'D'\u001b[0m\u001b[0;34m,\u001b[0m \u001b[0;34m'A did not encode correctly'\u001b[0m\u001b[0;34m\u001b[0m\u001b[0;34m\u001b[0m\u001b[0m\n\u001b[1;32m      6\u001b[0m \u001b[0;32massert\u001b[0m \u001b[0mencode\u001b[0m\u001b[0;34m(\u001b[0m\u001b[0;34m'T'\u001b[0m\u001b[0;34m,\u001b[0m\u001b[0malphabet\u001b[0m\u001b[0;34m,\u001b[0m\u001b[0mkey\u001b[0m\u001b[0;34m)\u001b[0m \u001b[0;34m==\u001b[0m \u001b[0;34m'W'\u001b[0m\u001b[0;34m,\u001b[0m \u001b[0;34m'T did not encode correctly'\u001b[0m\u001b[0;34m\u001b[0m\u001b[0;34m\u001b[0m\u001b[0m\n",
      "\u001b[0;31mNameError\u001b[0m: name 'encode' is not defined"
     ]
    }
   ],
   "source": [
    "alphabet ='ABCDEFGHIJKLMNOPQRSTUVWXYZ .?0123456789'\n",
    "key      ='DEFGHIJKLMNOPQRSTUVWXYZ .?0123456789ABC' \n",
    "\n",
    "assert encode('C',alphabet,key) == 'F', 'C did not encode correctly'\n",
    "assert encode('A',alphabet,key) == 'D', 'A did not encode correctly'\n",
    "assert encode('T',alphabet,key) == 'W', 'T did not encode correctly'\n",
    "assert encode(' ',alphabet,key) == '0', 'space did not encode correctly'\n",
    "assert encode('3',alphabet,key) == '6', '3 did not encode correctly'\n",
    "assert encode('9',alphabet,key) == 'C', '9 did not encode correctly'\n",
    "print('Success!')"
   ]
  },
  {
   "cell_type": "markdown",
   "metadata": {},
   "source": [
    "__Q8:__ Write some automated tests for your `encode` function that check that it works correctly for strings that contain more than one character."
   ]
  },
  {
   "cell_type": "code",
   "execution_count": null,
   "metadata": {},
   "outputs": [],
   "source": []
  },
  {
   "cell_type": "markdown",
   "metadata": {},
   "source": [
    "__Q9:__ Write a `decode(s, alphabet, key)` function that decodes the `String` `s` using the given `alphabet` and `key`.  Hint: If you are clever your `decode` function can do its job with a call to your `encode` function!"
   ]
  },
  {
   "cell_type": "code",
   "execution_count": null,
   "metadata": {},
   "outputs": [],
   "source": []
  },
  {
   "cell_type": "markdown",
   "metadata": {},
   "source": [
    "__Q10:__ Write some automated tests for your `decode` function that checks that it works correctly."
   ]
  },
  {
   "cell_type": "code",
   "execution_count": null,
   "metadata": {},
   "outputs": [],
   "source": []
  },
  {
   "cell_type": "markdown",
   "metadata": {},
   "source": [
    "### Optional Challenges: "
   ]
  },
  {
   "cell_type": "markdown",
   "metadata": {},
   "source": [
    "__Q11:__ Write a program that allows a user to encode and decode messages. The program should:\n",
    "1. Prompt the user for the rotation of the cypher to be used (e.g. 3 to use the key above).\n",
    "1. Prompt the user for whether they want to encode a messge, decode a message or quit.\n",
    "1. Prompt for the message.\n",
    "1. Print the encoded or decoded message.\n",
    "1. Repeat 2-4 until the user quits."
   ]
  },
  {
   "cell_type": "code",
   "execution_count": null,
   "metadata": {},
   "outputs": [],
   "source": []
  },
  {
   "cell_type": "markdown",
   "metadata": {},
   "source": [
    "__Q12:__ Cesar cyphers are particularly easy to crack because it is only necessary to know the alphabet and one translation.  Cyphers where the `key` is a random rearrangement of the `alphabet` are more difficult to crack.  Though they are still cracked fairly easily via [frequency analysis](https://en.wikipedia.org/wiki/Frequency_analysis).\n",
    "\n",
    "Write a function `randomize(s)` that shuffles the characters in the `String` `s` into a random order.  "
   ]
  },
  {
   "cell_type": "code",
   "execution_count": null,
   "metadata": {},
   "outputs": [],
   "source": []
  }
 ],
 "metadata": {
  "kernelspec": {
   "display_name": "Python 3",
   "language": "python",
   "name": "python3"
  },
  "language_info": {
   "codemirror_mode": {
    "name": "ipython",
    "version": 3
   },
   "file_extension": ".py",
   "mimetype": "text/x-python",
   "name": "python",
   "nbconvert_exporter": "python",
   "pygments_lexer": "ipython3",
   "version": "3.7.3"
  }
 },
 "nbformat": 4,
 "nbformat_minor": 2
}

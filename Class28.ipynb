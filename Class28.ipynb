{
 "cells": [
  {
   "cell_type": "markdown",
   "metadata": {},
   "source": [
    "# Class 28 - String Methods\n",
    "**COMP130 - Introduction to Computing**  \n",
    "**Dickinson College**  "
   ]
  },
  {
   "cell_type": "markdown",
   "metadata": {},
   "source": [
    "### Names:"
   ]
  },
  {
   "cell_type": "markdown",
   "metadata": {},
   "source": [
    "Doris Lessing"
   ]
  },
  {
   "cell_type": "markdown",
   "metadata": {},
   "source": [
    "### Using String Methods\n",
    "\n",
    "Each of the following questions asks you to rewrite some code to make it simpler by using a function from the `String` class.  To solve these problems you will need to understand what operations are being performed on the `String`s and then look through the documentation the `String` class (linked on the course home page) to find method(s) that will simplify the code."
   ]
  },
  {
   "cell_type": "markdown",
   "metadata": {},
   "source": [
    "__Q1:__ Simplify the following program by using a method or methods from the `String` class."
   ]
  },
  {
   "cell_type": "code",
   "execution_count": null,
   "metadata": {
    "deletable": false,
    "editable": false
   },
   "outputs": [],
   "source": [
    "choice = input('Enter Yes or No: ')\n",
    "if choice == 'Yes' or choice == 'YES' or choice == 'yes':\n",
    "    print('You chose yes :)')\n",
    "elif choice == 'No' or choice == 'NO' or choice == 'no':\n",
    "    print('You chose no :<')"
   ]
  },
  {
   "cell_type": "code",
   "execution_count": 13,
   "metadata": {},
   "outputs": [
    {
     "name": "stdout",
     "output_type": "stream",
     "text": [
      "Enter Yes or No: No\n",
      "You chose no :<\n"
     ]
    }
   ],
   "source": [
    "choice = input('Enter Yes or No: ').lower()\n",
    "if \"yes\" in choice:\n",
    "    print('You chose yes :)')\n",
    "elif \"no\" in choice:\n",
    "    print('You chose no :<')"
   ]
  },
  {
   "cell_type": "markdown",
   "metadata": {},
   "source": [
    "__Q2:__ Simplify the following program by using a method or methods from the `String` class."
   ]
  },
  {
   "cell_type": "code",
   "execution_count": 5,
   "metadata": {
    "deletable": false,
    "editable": false
   },
   "outputs": [
    {
     "name": "stdout",
     "output_type": "stream",
     "text": [
      "Enter a line of text: ----\n",
      "----\n"
     ]
    }
   ],
   "source": [
    "line = input('Enter a line of text: ')\n",
    "newline=''\n",
    "index=0\n",
    "while line[index] == ' ':\n",
    "    index=index+1\n",
    "\n",
    "line=line[index:]\n",
    "print(line)"
   ]
  },
  {
   "cell_type": "code",
   "execution_count": 11,
   "metadata": {},
   "outputs": [
    {
     "name": "stdout",
     "output_type": "stream",
     "text": [
      "Enter a line of text:  j\n",
      "j\n"
     ]
    }
   ],
   "source": [
    "print(input('Enter a line of text: ').strip())"
   ]
  },
  {
   "cell_type": "markdown",
   "metadata": {},
   "source": [
    "__Q3:__ Simplify the following program by using a method or methods from the `String` class. Hint: Use a loop and a call to the `count()` method and one other to make this more efficient."
   ]
  },
  {
   "cell_type": "code",
   "execution_count": null,
   "metadata": {
    "deletable": false,
    "editable": false
   },
   "outputs": [],
   "source": [
    "line = input('Enter a line of text: ')\n",
    "\n",
    "vowels=\"AEIOUaeiou\"\n",
    "count=0\n",
    "index=0\n",
    "while index < len(line):\n",
    "    if line[index] in vowels:\n",
    "       count=count+1\n",
    "    index=index+1\n",
    "\n",
    "print('Your line contains ' + str(count) + ' vowels.')"
   ]
  },
  {
   "cell_type": "code",
   "execution_count": 48,
   "metadata": {},
   "outputs": [
    {
     "name": "stdout",
     "output_type": "stream",
     "text": [
      "Enter a line of text: tallahassee\n",
      "Your line contains 5 vowels.\n"
     ]
    }
   ],
   "source": [
    "line = input('Enter a line of text: ').lower()\n",
    "\n",
    "vowels=\"aeiou\"\n",
    "vTot = 0\n",
    "\n",
    "for i in range(5):\n",
    "    vTot = vTot + line.count(vowels[i])\n",
    "    \n",
    "print('Your line contains ' + str(vTot) + ' vowels.')"
   ]
  },
  {
   "cell_type": "markdown",
   "metadata": {},
   "source": [
    "### Writing String Functions:\n",
    "\n",
    "Each of the following questions asks you to read the documentation for one of the `String` methods and then write a function that does the same thing that the `String` method does. The function you write cannot use the `String` method indicated.  You may however use other `String` methods.  The idea is to gain some intuition about the kind of processing that goes on inside the method, and to give you more practice working with `String`s."
   ]
  },
  {
   "cell_type": "markdown",
   "metadata": {},
   "source": [
    "__Q4:__ Read the documentation for the `replace()` method and write a function named `my_replace()` that when given three `String`s and returns the same `String` that the `replace()` method would return. You may ignore the optional `count` parameter to the `replace()` method and just replace all instances.  Note: You can use the `find()` method in your function, just not the `replace()` function.  You can use the automated test below to check if your function works correctly. Start by trying to pass the first set of tests, then modify and extend your program to pass the second set."
   ]
  },
  {
   "cell_type": "code",
   "execution_count": 49,
   "metadata": {},
   "outputs": [
    {
     "name": "stdout",
     "output_type": "stream",
     "text": [
      "Match: char 0\n",
      "new = their\n",
      "old = 's no there there.\n",
      "Match: char 6\n",
      "new = their's no their\n",
      "old =  there.\n",
      "Match: char 1\n",
      "new = their's no their their\n",
      "old = .\n",
      "their's no their their.\n"
     ]
    }
   ],
   "source": [
    "def my_replace(string, valO, valN):\n",
    "    spot = 0\n",
    "    strN = \"\"\n",
    "    while valO in string:\n",
    "        loc = string.find(valO)\n",
    "        print(\"Match: char\", loc)\n",
    "        strN = strN + string[:loc] + valN\n",
    "        print(\"new =\", strN)\n",
    "        string = string[loc + len(valO):]\n",
    "        print(\"old =\", string)\n",
    "    \n",
    "    return strN + string\n",
    "\n",
    "        \n",
    "        \n",
    "switched = my_replace(\"there's no there there.\", \"there\", \"their\")\n",
    "print(switched)"
   ]
  },
  {
   "cell_type": "code",
   "execution_count": 50,
   "metadata": {
    "deletable": false,
    "editable": false
   },
   "outputs": [
    {
     "name": "stdout",
     "output_type": "stream",
     "text": [
      "Match: char 2\n",
      "new = abd\n",
      "old = ba\n",
      "abdba\n",
      "Match: char 2\n",
      "new = abd\n",
      "old = ba\n",
      "Match: char 1\n",
      "new = ad\n",
      "old = cba\n",
      "Match: char 1\n",
      "new = adcd\n",
      "old = a\n",
      "Match: char 0\n",
      "new = d\n",
      "old = bcba\n",
      "Match: char 3\n",
      "new = dbcbd\n",
      "old = \n",
      "Success!\n"
     ]
    }
   ],
   "source": [
    "# Get these to work first.\n",
    "s = 'abcba'\n",
    "print(my_replace(s,'c','d'))\n",
    "assert s.replace('c','d') == my_replace(s,'c','d'), 'my_replace did not work'\n",
    "assert s.replace('b','d') == my_replace(s,'b','d'), 'my_replace did not work'\n",
    "assert s.replace('a','d') == my_replace(s,'a','d'), 'my_replace did not work'\n",
    "print('Success!')"
   ]
  },
  {
   "cell_type": "code",
   "execution_count": 51,
   "metadata": {
    "deletable": false,
    "editable": false
   },
   "outputs": [
    {
     "name": "stdout",
     "output_type": "stream",
     "text": [
      "Match: char 0\n",
      "new = d\n",
      "old = cba\n",
      "Match: char 3\n",
      "new = abcd\n",
      "old = \n",
      "Match: char 1\n",
      "new = ad\n",
      "old = a\n",
      "Success!\n"
     ]
    }
   ],
   "source": [
    "# Then modify and expand as necessary to solve these. Hint: Use string slices.\n",
    "s = 'abcba'\n",
    "assert s.replace('ab','d') == my_replace(s,'ab','d'), 'my_replace did not work'\n",
    "assert s.replace('ba','d') == my_replace(s,'ba','d'), 'my_replace did not work'\n",
    "assert s.replace('bcb','d') == my_replace(s,'bcb','d'), 'my_replace did not work'\n",
    "print('Success!')"
   ]
  },
  {
   "cell_type": "markdown",
   "metadata": {},
   "source": [
    "__Q5:__ Read the documentation for the `title()` method and write a function named `my_title()` that when given a `String` returns the same `String` that the `title()` method would return.  You can use the automated test below to check if your function works correctly.  Start by trying to pass the first set of tests, then modify and extend your program to pass the second set, and then the third set."
   ]
  },
  {
   "cell_type": "code",
   "execution_count": 157,
   "metadata": {},
   "outputs": [
    {
     "name": "stdout",
     "output_type": "stream",
     "text": [
      "Ready: welcome back my friends\n",
      "leave low\n",
      "leave low\n",
      "leave low\n",
      "leave low\n",
      "leave low\n",
      "leave low\n",
      "leave low\n",
      "cap at 8\n",
      "welcome Back my friends\n",
      "leave low\n",
      "leave low\n",
      "leave low\n",
      "leave low\n",
      "cap at 13\n",
      "welcome Back My friends\n",
      "leave low\n",
      "leave low\n",
      "cap at 16\n",
      "welcome Back My Friends\n",
      "leave low\n",
      "leave low\n",
      "leave low\n",
      "leave low\n",
      "leave low\n",
      "leave low\n",
      "welcome Back My Friends\n",
      "Welcome Back My Friends\n"
     ]
    }
   ],
   "source": [
    "# With scaffolding\n",
    "def my_title(strIn):\n",
    "    string = strIn.strip().lower()\n",
    "    print(\"Ready:\", string)\n",
    "    \n",
    "    for i in range(len(string) - 1):\n",
    "        if (string[i].isalpha() == False) and (string[i + 1].isalpha() == True):\n",
    "            print(\"cap at\", i + 1)\n",
    "            string = string[:i + 1] + string[i + 1].upper() + string[i + 2:]\n",
    "            print(string)\n",
    "        else:\n",
    "            print(\"leave low\")\n",
    "            \n",
    "    print(string)\n",
    "    return string.replace(string[0], string[0].upper(), 1)\n",
    "\n",
    "print(my_title(\"  wElCome bAcK My fRiEnDS\"))"
   ]
  },
  {
   "cell_type": "code",
   "execution_count": 161,
   "metadata": {},
   "outputs": [
    {
     "name": "stdout",
     "output_type": "stream",
     "text": [
      "Welcome Back My Friend'S\n"
     ]
    }
   ],
   "source": [
    "# Without scaffolding\n",
    "def my_title(strIn):\n",
    "    string = strIn.strip().lower()\n",
    "    \n",
    "    for i in range(len(string) - 1):\n",
    "        if (string[i].isalpha() == False) and (string[i + 1].isalpha() == True):\n",
    "            string = string[:i + 1] + string[i + 1].upper() + string[i + 2:]\n",
    "        \n",
    "    return string.replace(string[0], string[0].upper(), 1)\n",
    "\n",
    "print(my_title(\"  wElCome bAcK My fRiEnD's\"))\n",
    "\n"
   ]
  },
  {
   "cell_type": "code",
   "execution_count": 162,
   "metadata": {
    "deletable": false,
    "editable": false
   },
   "outputs": [
    {
     "name": "stdout",
     "output_type": "stream",
     "text": [
      "Success!\n"
     ]
    }
   ],
   "source": [
    "# Get these to work first.\n",
    "s='this is a test'\n",
    "assert s.title() == my_title(s), 'my_title did not work correctly'\n",
    "s='Anoter kind Of a Test'\n",
    "assert s.title() == my_title(s), 'my_title did not work correctly'\n",
    "print('Success!')"
   ]
  },
  {
   "cell_type": "code",
   "execution_count": 163,
   "metadata": {
    "deletable": false,
    "editable": false
   },
   "outputs": [
    {
     "name": "stdout",
     "output_type": "stream",
     "text": [
      "Success!\n"
     ]
    }
   ],
   "source": [
    "# Then work on this one.\n",
    "s='oNe mORE For Good meaSure'\n",
    "assert s.title() == my_title(s), 'my_title did not work correctly'\n",
    "print('Success!')"
   ]
  },
  {
   "cell_type": "code",
   "execution_count": 164,
   "metadata": {
    "deletable": false,
    "editable": false
   },
   "outputs": [
    {
     "name": "stdout",
     "output_type": "stream",
     "text": [
      "Success!\n"
     ]
    }
   ],
   "source": [
    "# Then work on these.\n",
    "# Hint... if a string c is a symbol then c.isalpha() is False.\n",
    "\n",
    "s='27pilots is a band.'\n",
    "assert s.title() == my_title(s), 'my_title did not work correctly'\n",
    "s='Stuff+after_a_symbol#should-also!be.caps'\n",
    "assert s.title() == my_title(s), 'my_title did not work correctly'\n",
    "print('Success!')"
   ]
  },
  {
   "cell_type": "markdown",
   "metadata": {},
   "source": [
    "# Substitution Cyphers\n",
    "\n",
    "A substitution cypher is a way of encoding a message such that it is more difficult to read. In a substitution cypher there is an *alphabet* and a *key*:\n",
    "```Python\n",
    "alphabet ='ABCDEFGHIJKLMNOPQRSZTUVWXYZ .?0123456789'\n",
    "key      ='DEFGHIJKLMNOPQRSZTUVWXYZ .?0123456789ABC' \n",
    "```\n",
    "\n",
    "To encode a message, each letter in the message is translated into the corresponding letter in the key.  For example: `CAT` is encoded to `FDW`.  The `C` is looked up in the `alphabet` and then matched to the `F` in the `key`, which is at the same location. Similarly for the `A` to `D` and `T` to `W`.\n",
    "\n",
    "To decode a message, the process is reversed. For example: `GRJ` decodes to `DOG`. The `G` is looked up in the `key` and then matched to the `D` that appears at the same location in the `alphabet`.  Similarly for the `R` to `O` and `J` to `G`.\n",
    "\n",
    "Substitution cyphers such as the one shown above where the *key* is a rotation of the alphabet are known as Cesar cyphers because they were used by Julius Cesar to encode messages he sent to his military commanders. While, at the time of Julius Cesar, they likely provided secure communications today Cesar cyphers are essentially useless as an encryption technique.  Though they are still good for providing exercises for beginner programmers learning about `Strings`! :)\n",
    "\n",
    "In this series of questions you'll develop some functions and then a program that can encode and decode messages using a Cesar cypher."
   ]
  },
  {
   "cell_type": "markdown",
   "metadata": {},
   "source": [
    "__Q6:__ Write a function `rotate(s, n)` that when given a `String` `s` will rotate the characters in it left by `n` positions. As an example, using the `alphabet` from above, the call `rotate(alphabet,3)` would return the `key`. Values of `n` greater than the length of `s` should be prohibited by a guardian.  You can use the automated tests below to check that your function is working correctly.  Hint: Use string slices."
   ]
  },
  {
   "cell_type": "code",
   "execution_count": 3,
   "metadata": {},
   "outputs": [
    {
     "name": "stdout",
     "output_type": "stream",
     "text": [
      "1\n",
      "B\n",
      "2\n",
      "BC\n",
      "3\n",
      "BCD\n",
      "4\n",
      "BCDE\n",
      "5\n",
      "BCDEF\n",
      "6\n",
      "BCDEFG\n",
      "7\n",
      "BCDEFGA\n",
      "BCDEFGA\n"
     ]
    }
   ],
   "source": [
    "# with scaffolding\n",
    "def rotate(s, n):\n",
    "    assert len(s) >= n, \"The shift in spaces may not be greater than the length of the string.\"\n",
    "    rotStr = \"\"\n",
    "    for char in s.upper():\n",
    "        index = s.find(char) + n\n",
    "        print(index)\n",
    "        if index >= len(s):\n",
    "            index = index - len(s)\n",
    "        rotStr = rotStr + s[index]\n",
    "        print(rotStr)\n",
    "    return rotStr\n",
    "\n",
    "print(rotate(\"ABCDEFG\", 1))\n",
    "        "
   ]
  },
  {
   "cell_type": "code",
   "execution_count": 31,
   "metadata": {},
   "outputs": [
    {
     "name": "stdout",
     "output_type": "stream",
     "text": [
      "BCDEFGA\n"
     ]
    }
   ],
   "source": [
    "# without scaffolding for auto tests\n",
    "def rotate(s, n):\n",
    "    assert len(s) >= n, \"The shift in spaces may not be greater than the length of the string.\"\n",
    "    rotStr = \"\"\n",
    "    for char in s.upper():\n",
    "        index = s.find(char) + n\n",
    "        if index >= len(s):\n",
    "            index = index - len(s)\n",
    "        rotStr = rotStr + s[index]\n",
    "    return rotStr\n",
    "\n",
    "print(rotate(\"ABCDEFG\", 1))\n",
    "        "
   ]
  },
  {
   "cell_type": "code",
   "execution_count": 32,
   "metadata": {
    "deletable": false,
    "editable": false
   },
   "outputs": [
    {
     "name": "stdout",
     "output_type": "stream",
     "text": [
      "Success!\n"
     ]
    }
   ],
   "source": [
    "assert rotate('ABCDEFG',1) == 'BCDEFGA', 'rotate did not work correctly'\n",
    "assert rotate('ABCDEFG',2) == 'CDEFGAB', 'rotate did not work correctly'\n",
    "assert rotate('ABCDEFG',6) == 'GABCDEF', 'rotate did not work correctly'\n",
    "assert rotate('ABCDEFG',7) == 'ABCDEFG', 'rotate did not work correctly'\n",
    "print('Success!')"
   ]
  },
  {
   "cell_type": "markdown",
   "metadata": {},
   "source": [
    "__Q7:__ Write a function `encode(s, alphabet, key)` that encodes `s` using the given `alphabet` and `key`.  You can write this function incrementally.  Write it first assuming `s` is a single character.  The first set of tests below will test this case. Then modify that solution to handle the case where `s` contains multiple characters. "
   ]
  },
  {
   "cell_type": "code",
   "execution_count": 33,
   "metadata": {},
   "outputs": [
    {
     "name": "stdout",
     "output_type": "stream",
     "text": [
      "L0ORYH0.RX1\n"
     ]
    }
   ],
   "source": [
    "def encode(s, alph, key):\n",
    "    coded = \"\"\n",
    "    for char in s.upper():\n",
    "        coded = coded + key[alph.find(char)]\n",
    "    \n",
    "    return coded\n",
    "\n",
    "print(encode('I love you.',alphabet,key))"
   ]
  },
  {
   "cell_type": "code",
   "execution_count": 21,
   "metadata": {
    "deletable": false,
    "editable": false
   },
   "outputs": [
    {
     "name": "stdout",
     "output_type": "stream",
     "text": [
      "Success!\n"
     ]
    }
   ],
   "source": [
    "alphabet ='ABCDEFGHIJKLMNOPQRSZTUVWXYZ .?0123456789'\n",
    "key      ='DEFGHIJKLMNOPQRSZTUVWXYZ .?0123456789ABC' \n",
    "\n",
    "assert encode('C',alphabet,key) == 'F', 'C did not encode correctly'\n",
    "assert encode('A',alphabet,key) == 'D', 'A did not encode correctly'\n",
    "assert encode('T',alphabet,key) == 'W', 'T did not encode correctly'\n",
    "assert encode(' ',alphabet,key) == '0', 'space did not encode correctly'\n",
    "assert encode('3',alphabet,key) == '6', '3 did not encode correctly'\n",
    "assert encode('9',alphabet,key) == 'C', '9 did not encode correctly'\n",
    "print('Success!')"
   ]
  },
  {
   "cell_type": "markdown",
   "metadata": {},
   "source": [
    "__Q8:__ Write some automated tests for your `encode` function that check that it works correctly for strings that contain more than one character."
   ]
  },
  {
   "cell_type": "code",
   "execution_count": 24,
   "metadata": {},
   "outputs": [
    {
     "name": "stdout",
     "output_type": "stream",
     "text": [
      "Success!\n"
     ]
    }
   ],
   "source": [
    "assert encode('CD',alphabet,key) == 'FG', 'CD did not encode correctly'\n",
    "assert encode('AB',alphabet,key) == 'DE', 'AB did not encode correctly'\n",
    "assert encode('TU',alphabet,key) == 'WX', 'TU did not encode correctly'\n",
    "print('Success!')"
   ]
  },
  {
   "cell_type": "markdown",
   "metadata": {},
   "source": [
    "__Q9:__ Write a `decode(s, alphabet, key)` function that decodes the `String` `s` using the given `alphabet` and `key`.  Hint: If you are clever your `decode` function can do its job with a call to your `encode` function!"
   ]
  },
  {
   "cell_type": "code",
   "execution_count": 34,
   "metadata": {},
   "outputs": [
    {
     "name": "stdout",
     "output_type": "stream",
     "text": [
      "I LOVE YOU.\n"
     ]
    }
   ],
   "source": [
    "def decode(s, alph, key):\n",
    "    return encode(s, key, alph)\n",
    "\n",
    "print(decode(\"L0ORYH0.RX1\", alphabet, key))"
   ]
  },
  {
   "cell_type": "markdown",
   "metadata": {},
   "source": [
    "__Q10:__ Write some automated tests for your `decode` function that checks that it works correctly."
   ]
  },
  {
   "cell_type": "code",
   "execution_count": 30,
   "metadata": {},
   "outputs": [
    {
     "name": "stdout",
     "output_type": "stream",
     "text": [
      "Success!\n"
     ]
    }
   ],
   "source": [
    "assert decode('FG',alphabet,key) == 'CD', 'FG did not encode correctly'\n",
    "assert decode('DE',alphabet,key) == 'AB', 'DE did not encode correctly'\n",
    "assert decode('WX',alphabet,key) == 'TU', 'WX did not encode correctly'\n",
    "print('Success!')"
   ]
  },
  {
   "cell_type": "markdown",
   "metadata": {},
   "source": [
    "### Optional Challenges: "
   ]
  },
  {
   "cell_type": "markdown",
   "metadata": {},
   "source": [
    "__Q11:__ Write a program that allows a user to encode and decode messages. The program should:\n",
    "1. Prompt the user for the rotation of the cypher to be used (e.g. 3 to use the key above).\n",
    "1. Prompt the user for whether they want to encode a messge, decode a message or quit.\n",
    "1. Prompt for the message.\n",
    "1. Print the encoded or decoded message.\n",
    "1. Repeat 2-4 until the user quits."
   ]
  },
  {
   "cell_type": "code",
   "execution_count": 55,
   "metadata": {},
   "outputs": [
    {
     "name": "stdout",
     "output_type": "stream",
     "text": [
      "Please enter the number of spaces to shift the code's key. >> 6\n",
      "GHIJKLMNOPQRSZTUVWXYZ .?012345678BCDEFG\n",
      "Please type 1 of the following:\n",
      "    1 to encode a message\n",
      "    2 to decode a message\n",
      "    3 to quit\n",
      "    >> 1\n",
      "Please enter the phrase you wish to encode. >> I love you.\n",
      "Coded: O3RT.K31T 4\n",
      "Please type 1 of the following:\n",
      "    1 to encode a message\n",
      "    2 to decode a message\n",
      "    3 to quit\n",
      "    >> 2\n",
      "Please enter the phrase you wish to decode. >> O3RT.K31T 4\n",
      "Coded: I LOVE YOU.\n",
      "Please type 1 of the following:\n",
      "    1 to encode a message\n",
      "    2 to decode a message\n",
      "    3 to quit\n",
      "    >> 3\n",
      "Nice working with you.\n"
     ]
    }
   ],
   "source": [
    "bump = int(input(\"Please enter the number of spaces to shift the code's key. >> \"))\n",
    "alphabet ='ABCDEFGHIJKLMNOPQRSZTUVWXYZ .?0123456789'\n",
    "key = \"\"\n",
    "\n",
    "for char in range(39):\n",
    "    shift = char + bump\n",
    "    if shift > 38:\n",
    "        shift = shift - 38\n",
    "    key = key + alphabet[shift]\n",
    "print(key)\n",
    "\n",
    "choice = -1\n",
    "while choice != \"3\":\n",
    "    choice = input(\"\"\"Please type 1 of the following:\n",
    "    1 to encode a message\n",
    "    2 to decode a message\n",
    "    3 to quit\n",
    "    >> \"\"\")\n",
    "    if choice == \"1\":\n",
    "        uString = input(\"Please enter the phrase you wish to encode. >> \")\n",
    "        outCoded = encode(uString, alphabet, key)\n",
    "        print(\"Coded:\", outCoded)\n",
    "    elif choice == \"2\":\n",
    "        uString = input(\"Please enter the phrase you wish to decode. >> \")\n",
    "        outDecoded = decode(uString, alphabet, key)\n",
    "        print(\"Coded:\", outDecoded)\n",
    "    elif choice != \"1\" and choice != \"2\" and choice != \"3\":\n",
    "        choice = input(\"\"\"Please type 1 of the following:\n",
    "    1 to encode a message\n",
    "    2 to decode a message\n",
    "    3 to quit\n",
    "    >> \"\"\")\n",
    "        \n",
    "print(\"Nice working with you.\")"
   ]
  },
  {
   "cell_type": "markdown",
   "metadata": {},
   "source": [
    "__Q12:__ Cesar cyphers are particularly easy to crack because it is only necessary to know the alphabet and one translation.  Cyphers where the `key` is a random rearrangement of the `alphabet` are more difficult to crack.  Though they are still cracked fairly easily via [frequency analysis](https://en.wikipedia.org/wiki/Frequency_analysis).\n",
    "\n",
    "Write a function `randomize(s)` that shuffles the characters in the `String` `s` into a random order.  "
   ]
  },
  {
   "cell_type": "code",
   "execution_count": 10,
   "metadata": {},
   "outputs": [
    {
     "name": "stdout",
     "output_type": "stream",
     "text": [
      "scramble >> e\n",
      "source >> abcdf\n",
      "scramble >> ed\n",
      "source >> abcf\n",
      "scramble >> edf\n",
      "source >> abc\n",
      "scramble >> edfb\n",
      "source >> ac\n",
      "scramble >> edfba\n",
      "source >> c\n",
      "scramble >> edfbac\n",
      "source >> \n"
     ]
    },
    {
     "data": {
      "text/plain": [
       "'edfbac'"
      ]
     },
     "execution_count": 10,
     "metadata": {},
     "output_type": "execute_result"
    }
   ],
   "source": [
    "from random import *\n",
    "\n",
    "def randomize(string):\n",
    "    ranStr = \"\"\n",
    "    while len(string) > 0:\n",
    "        spot = randint(0, len(string) - 1)\n",
    "        ranStr = ranStr + string[spot]\n",
    "        print(\"scramble >>\", ranStr)\n",
    "        string = string[:spot] + string[spot + 1:]\n",
    "        print(\"source >>\", string)\n",
    "    return ranStr\n",
    "        \n",
    "randomize(\"abcdef\")"
   ]
  }
 ],
 "metadata": {
  "kernelspec": {
   "display_name": "Python 3",
   "language": "python",
   "name": "python3"
  },
  "language_info": {
   "codemirror_mode": {
    "name": "ipython",
    "version": 3
   },
   "file_extension": ".py",
   "mimetype": "text/x-python",
   "name": "python",
   "nbconvert_exporter": "python",
   "pygments_lexer": "ipython3",
   "version": "3.7.3"
  }
 },
 "nbformat": 4,
 "nbformat_minor": 2
}
